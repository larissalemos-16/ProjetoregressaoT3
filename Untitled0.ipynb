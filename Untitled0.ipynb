{
  "nbformat": 4,
  "nbformat_minor": 0,
  "metadata": {
    "colab": {
      "provenance": [],
      "authorship_tag": "ABX9TyPJmHSOvEauVfgaAFWOiGnI",
      "include_colab_link": true
    },
    "kernelspec": {
      "name": "python3",
      "display_name": "Python 3"
    },
    "language_info": {
      "name": "python"
    }
  },
  "cells": [
    {
      "cell_type": "markdown",
      "metadata": {
        "id": "view-in-github",
        "colab_type": "text"
      },
      "source": [
        "<a href=\"https://colab.research.google.com/github/larissalemos-16/ProjetoregressaoT3/blob/main/Untitled0.ipynb\" target=\"_parent\"><img src=\"https://colab.research.google.com/assets/colab-badge.svg\" alt=\"Open In Colab\"/></a>"
      ]
    },
    {
      "cell_type": "code",
      "source": [
        "import pandas as pd\n",
        "import numpy as np\n",
        "import matplotlib.pyplot as plt\n",
        "import seaborn as sns\n",
        "from sklearn.model_selection import train_test_split\n",
        "from sklearn.linear_model import LinearRegression\n",
        "from sklearn.metrics import mean_squared_error, mean_absolute_error, r2_score\n",
        "\n",
        "# Carregar os dados\n",
        "file_path = '/mnt/data/top_insta_influencers_data.csv'\n",
        "data = pd.read_csv(file_path)\n",
        "\n",
        "# Limpeza e conversão dos dados\n",
        "# Convertendo colunas de texto para numéricas (exemplo: '3.3k' -> 3300, '475.8m' -> 475800000)\n",
        "def convert_to_numeric(value):\n",
        "    if isinstance(value, str):\n",
        "        if 'k' in value:\n",
        "            return float(value.replace('k', '')) * 1e3\n",
        "        elif 'm' in value:\n",
        "            return float(value.replace('m', '')) * 1e6\n",
        "        elif '%' in value:\n",
        "            return float(value.replace('%', '')) / 100\n",
        "    return float(value)\n",
        "\n",
        "for col in ['followers', 'avg_likes', '60_day_eng_rate', 'posts']:\n",
        "    data[col] = data[col].apply(convert_to_numeric)\n",
        "\n",
        "# Remover valores ausentes na variável dependente\n",
        "data = data.dropna(subset=['60_day_eng_rate'])\n",
        "\n",
        "# Seleção de variáveis independentes\n",
        "features = ['followers', 'avg_likes', 'posts']\n",
        "X = data[features]\n",
        "y = data['60_day_eng_rate']\n",
        "\n",
        "# Divisão em treino e teste\n",
        "X_train, X_test, y_train, y_test = train_test_split(X, y, test_size=0.2, random_state=42)\n",
        "\n",
        "# Modelo de Regressão Linear\n",
        "model = LinearRegression()\n",
        "model.fit(X_train, y_train)\n",
        "\n",
        "# Predições\n",
        "y_pred = model.predict(X_test)\n",
        "\n",
        "# Avaliação do modelo\n",
        "mse = mean_squared_error(y_test, y_pred)\n",
        "mae = mean_absolute_error(y_test, y_pred)\n",
        "r2 = r2_score(y_test, y_pred)\n",
        "\n",
        "print(f\"MSE: {mse:.4f}\")\n",
        "print(f\"MAE: {mae:.4f}\")\n",
        "print(f\"R²: {r2:.4f}\")\n",
        "\n",
        "# Visualização: valores reais vs. preditos\n",
        "plt.figure(figsize=(8, 6))\n",
        "sns.scatterplot(x=y_test, y=y_pred)\n",
        "plt.xlabel('Valores Reais')\n",
        "plt.ylabel('Valores Preditos')\n",
        "plt.title('Regressão Linear: Valores Reais vs. Preditos')\n",
        "plt.show()\n"
      ],
      "metadata": {
        "id": "5el2smnzJuoR"
      },
      "execution_count": null,
      "outputs": []
    }
  ]
}